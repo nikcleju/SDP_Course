{
  "cells": [
    {
      "cell_type": "markdown",
      "metadata": {},
      "source": [
        "# Format overflow in digital filtering\n",
        "\n",
        "Lab 12, SDP"
      ],
      "id": "2dcb8fd3-5c17-4940-960d-95d5ec1a542f"
    },
    {
      "cell_type": "raw",
      "metadata": {
        "raw_mimetype": "tex"
      },
      "source": [
        "\\newcommand*{\\underuparrow}[1]{\\ensuremath{\\underset{\\uparrow}{#1}}}"
      ],
      "id": "21089bb9-7cf3-487f-8a9e-758b23ee6626"
    },
    {
      "cell_type": "markdown",
      "metadata": {},
      "source": [
        "## 1 Objective\n",
        "\n",
        "Students should observe the effects of internal format overflow and\n",
        "underflow events on the output of a digital filter.\n",
        "\n",
        "## 2 Theoretical notions\n",
        "\n",
        "## 3 Theoretical exercises\n",
        "\n",
        "1.  Consider the following system:\n",
        "    $$H(z) = \\frac{1-\\frac{1}{2}z^{-1}}{\\left(1 - \\frac{1}{4}z^{-1}\\right)\\left(1 + \\frac{1}{4}z^{-1}\\right)}$$\n",
        "\n",
        "    1.  Draw one of the series implementations of the system\n",
        "    2.  Assume a fixed-point implementation with $b$ bits for the\n",
        "        fractionary part. Each product is quantized by rounding to this\n",
        "        format. Find the variance of the rounding noise due to the\n",
        "        internal multiplications, at the output of the system.\n",
        "\n",
        "## 4 Practical exercises\n",
        "\n",
        "1.  In Matlab, use the `fdatool` tool to design a low-pass IIR filter of\n",
        "    order 4, Butterworth type, with cutoff frequency equal to 1.5kHz for\n",
        "    a sampling frequency of 44.1kHz.\n",
        "\n",
        "    Convert the filter to direct form II and export it to Simulink\n",
        "    (check the option *Build model using basic elements*).\n",
        "\n",
        "2.  In the Simulink model, make two copies of the filter (Copy/Paste).\n",
        "    At the input of both filters put a sample audio signal\n",
        "    (e.g. *Kalimba.mp3* or *mtlb*). For the second filter, the input\n",
        "    signal shall be converted to fixed-point 1S2Î9F data type.\n",
        "\n",
        "    1.  Obtain and plot the difference between the two outputs.\n",
        "    2.  Export the difference signal to Matlab’s Workspace and compute\n",
        "        its average value and the dispersion.\n",
        "\n",
        "3.  Make a new copy of the second filter, and for this copy un-check in\n",
        "    the properties of the *Sum* blocks the option *Saturate on integer\n",
        "    overflow*.\n",
        "\n",
        "    1.  What is its effect? Obtain and plot the difference compared to\n",
        "        the first filter.\n",
        "    2.  Which of the filters 2 or 3 produces smaller errors?\n",
        "\n",
        "4.  Use the function `normescal()` to compute different scaling norms\n",
        "    for the given filter. Scale the input signal with each one of these\n",
        "    norms, and rescale back the output. What is the effect of this\n",
        "    procedure?\n",
        "\n",
        "## 5 Final questions\n",
        "\n",
        "1.  TBD"
      ],
      "id": "5ef41bcb-3c1d-4a80-a0f9-687c3e423b17"
    }
  ],
  "nbformat": 4,
  "nbformat_minor": 5,
  "metadata": {
    "kernelspec": {
      "name": "python3",
      "display_name": "Python 3 (ipykernel)",
      "language": "python"
    }
  }
}