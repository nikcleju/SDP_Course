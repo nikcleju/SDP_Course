{
  "cells": [
    {
      "cell_type": "markdown",
      "metadata": {},
      "source": [
        "# Format overflow in digital filtering\n",
        "\n",
        "Lab 12, SDP"
      ],
      "id": "f02197ea-6770-4321-b595-1f072895baf5"
    },
    {
      "cell_type": "raw",
      "metadata": {
        "raw_mimetype": "tex"
      },
      "source": [
        "\\newcommand*{\\underuparrow}[1]{\\ensuremath{\\underset{\\uparrow}{#1}}}"
      ],
      "id": "0abdcfe1-7a84-4fcc-ae47-7cc5d2f925c8"
    },
    {
      "cell_type": "markdown",
      "metadata": {},
      "source": [
        "## 1 Objective\n",
        "\n",
        "Students should observe the effects of internal format overflow and\n",
        "underflow events on the output of a digital filter.\n",
        "\n",
        "## 2 Theoretical notions\n",
        "\n",
        "## 3 Theoretical exercises\n",
        "\n",
        "1.  Consider the following system:\n",
        "    $$H(z) = \\frac{1-\\frac{1}{2}z^{-1}}{\\left(1 - \\frac{1}{4}z^{-1}\\right)\\left(1 + \\frac{1}{4}z^{-1}\\right)}$$\n",
        "\n",
        "    1.  Draw one of the series implementations of the system\n",
        "    2.  Assume a fixed-point implementation with $b$ bits for the\n",
        "        fractionary part. Each product is quantized by rounding to this\n",
        "        format. Find the variance of the rounding noise due to the\n",
        "        internal multiplications, at the output of the system.\n",
        "\n",
        "## 4 Practical exercises\n",
        "\n",
        "1.  In Matlab, use the `fdatool` tool to design a low-pass IIR filter of\n",
        "    order 4, Butterworth type, with cutoff frequency equal to 1.5kHz for\n",
        "    a sampling frequency of 44.1kHz.\n",
        "\n",
        "    1.  Export the filter to Simulink, in the Second-Order-Sections\n",
        "        structure (“Export to Simulink model”, check option *Build model\n",
        "        using basic elements*).\n",
        "    2.  Convert the filter to Direct Form II and export it again to\n",
        "        Simulink (also check *Build model using basic elements*).\n",
        "\n",
        "2.  In the Simulink model, make two copies of the filter in Direct-Form\n",
        "    II (Copy/Paste).\n",
        "\n",
        "    At the input of both filters put a sample audio signal\n",
        "    (e.g. *Kalimba.mp3*). For the block “From Multimedia File”, set the\n",
        "    parameter “Samples per audio channel” (1024) **to 1**.\n",
        "\n",
        "    Display the signal types: right-click in white area -\\> “Other\n",
        "    Displays” -\\> “Signal and Ports” -\\> “Port Data Types”\n",
        "\n",
        "    1.  For the second filter, convert the input signal to fixed-point\n",
        "        1S6I9F data type, using a “Data Type Conversion” block.\n",
        "\n",
        "    2.  Increase the number of bits for the integer part, until\n",
        "        obtaining an output signal close to the original;\n",
        "\n",
        "    3.  Obtain and plot the difference between the two outputs;\n",
        "\n",
        "    4.  Export the difference signal to Matlab’s Workspace and compute\n",
        "        its average value and the variance.\n",
        "\n",
        "        Use a “To Workspace” block, and change settings:\n",
        "\n",
        "        -   Save format: Array\n",
        "        -   2D instead of 3D\n",
        "\n",
        "3.  Repeat exercise 2 for the filter implemented with\n",
        "    Second-Order-Systems.\n",
        "\n",
        "4.  Repeat exercise 2, returning to the format 1S6I9F.\n",
        "\n",
        "    For the second filter, uncheck for all the *Sum* and *Gain* blocks\n",
        "    the option *Saturate on integer overflow*.\n",
        "\n",
        "    1.  What is the effect? Obtain and plot the difference between the\n",
        "        two outputs;\n",
        "    2.  In which case are the errors smaller? (with option checked or\n",
        "        not).\n",
        "\n",
        "5.  Use the function `normescal()` to compute different scaling norms\n",
        "    for the given filter. Scale the input signal with each one of these\n",
        "    norms, and rescale back the output. What is the effect of this\n",
        "    procedure?\n",
        "\n",
        "## 5 Final questions\n",
        "\n",
        "1.  TBD"
      ],
      "id": "8b07cb55-7ded-4cf7-8c08-7bbdda700b05"
    }
  ],
  "nbformat": 4,
  "nbformat_minor": 5,
  "metadata": {
    "kernelspec": {
      "name": "python3",
      "display_name": "Python 3 (ipykernel)",
      "language": "python"
    }
  }
}