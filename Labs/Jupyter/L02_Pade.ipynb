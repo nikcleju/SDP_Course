{
 "cells": [
  {
   "cell_type": "markdown",
   "metadata": {},
   "source": [
    "# SDP Lab 02: Pade method for IIR filter design\n",
    "\n",
    "## Usage\n",
    "\n",
    "This file is is designed to be run live in a browser. This file is a Jupyter Notebook using the Octave kernel.\n",
    "\n",
    "Usage:\n",
    "  - `Shift+Enter` on a code cell = Execute and go to next cell\n",
    "  - `Ctrl+Enter` on a code cell = Execute and stay at this cell"
   ]
  },
  {
   "cell_type": "markdown",
   "metadata": {},
   "source": [
    "## Theoretical considerations\n",
    "\n",
    "The Pade method is a way to design an IIR filter such that its impulse reponse $h[n]$ meets certain requirements.\n",
    "Designing a filter means finding the values of the numerator coefficients $b_0, b_1, ...b_M$ and of the denominator coefficients $a_1, a_2, ....a_N$ of a system function:\n",
    "$$H(z) = \\frac{b_0 + b_1z^{-1} + b_2z^{-2} + ... + b_Mz^{-M}}{1 + a_1z^{-1} + a_2z^{-2} + ... + b_Nz^{-N}}$$\n",
    "such that the filter does what it is required to do.\n",
    "\n",
    "### The Pade method\n",
    "\n",
    "In the Pade method, we want to design the filter $H(z)$ such that the impulse response $h[n]$ is similar to a desired impulse response $h_d[n]$.\n",
    "\n",
    "The desired impulse response $h_d[n]$ can be, for example, the impulse reponse of an ideal low-pass, band-pass or high-pass filter (which needs a filter of infinite order so can't be implemented exactly).\n",
    "\n",
    "The idea of the Pade method is the following: let's select $b_0, b_1, ...b_M$ and $a_1, a_2, ....a_N$ in order to make the **first samples** of $h[n]$ identical to the ones of $h_d[n]$. Why? Because in many cases the first samples are the most important, and if we manage to make the first equal, we can reasonably assume that the following ones will not matter so much, and therefore our filter $h[n]$ will be reasonably similar to the desired $h_d[n]$.\n",
    "\n",
    "### Mathematical procedure\n",
    "\n",
    "Start from the equation of the system:\n",
    "$$y[n]  = -a_1 y[n-1] - ... a_Ny[n-N] + b_0 x[n] + b_1 x[n-1] + ... b_M x[n-m]$$\n",
    "\n",
    "If the input is $\\delta[n]$, the output will be $h[n]$, therefore:\n",
    "$$h[n]  = -a_1 h[n-1] - ... a_Nh[n-N] + b_0 \\delta[n] + b_1 \\delta[n-1] + ... b_M \\delta[n-m]$$\n",
    "\n",
    "Make first $M+N+1$ samples equal to those of $h_d[n]$. The number of samples is the same as the total number of coefficients. Assume the initial conditions $h[-1] = h[-2] = ... = 0$ (if not specified otherwise).\n",
    "\n",
    "We have the following system:\n",
    "$$\\begin{aligned}\n",
    "h[0] &= b_0 = h_d[0] \\\\\n",
    "h[1] &= -a_1h_d[0] + b_1 = h_d[1] \\\\\n",
    "&\\dots \\\\\n",
    "h[M] &= -a_1h_d[M-1] - ... - a_Mh_d[0] + b_M = h_d[M] \\\\\n",
    "h[M+1] &= -a_1h_d[M] - ... - a_Mh_d[M+1-N] \\\\\n",
    "&\\dots \\\\\n",
    "h[M+N] &= -a_1h_d[M+N-1] - ... - a_Mh_d[N] \\\\\n",
    "\\end{aligned}$$\n",
    "\n",
    "There should be a total of $M+N+1$ equations, sufficient for a total of $M+N+1$ unknowns $a_i$ and $b_i$ to be found.\n",
    "\n",
    "Solve the system. When solving by hand, note that:\n",
    "- The last $N$ equations do not depend on $b_i$. Solve them first, as a separate sub-system, and obtain the values of the coefficients $a_i$\n",
    "- Then move to the first $M+1$ equations. Replace $a_i$ with the values found above, and find the $b_i$. Each equation should give one value of a $b_i$.\n",
    "\n",
    "### Exercise / Example at blackboard\n",
    "\n",
    "1. Use the Pade method to find out the parameters of the system with the following system function of order 2:\n",
    "   $$H(z) = \\frac{b_0 + b_1 z^{-1} + b_2 z^{-2}}{1 + a_1 z^{-1} + a_2 z^{-2}}$$\n",
    "   considering the desired impulse response: \n",
    "   $$h_d[n] = \\left(\\frac{1}{3}\\right)^n \\cos\\left(\\frac{n \\pi}{4}\\right)$$\n",
    "\n",
    "\n",
    "## Matlab exercise\n",
    "\n",
    "1. Implement in Matlab a function for creating and then solving the equation system resulting from the Pade method.\n",
    "   \n",
    "   The functions should be called as:\n",
    "\n",
    "   ```[b,a] = pademethod(order, hd)```\n",
    "\n",
    "   The function shall have the following arguments:\n",
    "   - `order`: the order of the designed filter\n",
    "   - `hd`: a vector holding the first samples of the desired impulse response\n",
    "  \n",
    "\tThe function shall return the coefficients of the system function for the resulting filter:\n",
    "   - `b`: vector with the numerator coefficients\n",
    "   - `a`: vector with the denominator coefficients\n",
    "  \n",
    "2. Use the function above to design a second order filter with the Pade method, for approximating the desired impulse response given below:\n",
    "   $$h_d[n] = \\left(\\frac{1}{3}\\right)^n \\cdot \\cos(\\frac{\\pi}{4}n)\\cdot u[n]$$\n",
    "   \n",
    "3. Plot the first 20 samples of the impulse reponse of the designed filter (use `impz()`) and of the desired impulse response, on the same figure. Where are they identical? \n",
    "   \n",
    "4. Load a sample audio file in Matlab and filter it with the filter found above.\n",
    "Play the filtered signal. How does it sounde like? Compare it with the original signal.\n",
    "\n",
    "## Final questions\n",
    "1. TBD\n",
    "   "
   ]
  }
 ],
 "metadata": {
  "anaconda-cloud": {},
  "kernelspec": {
   "display_name": "Octave",
   "language": "octave",
   "name": "octave"
  },
  "language_info": {
   "file_extension": ".m",
   "help_links": [
    {
     "text": "GNU Octave",
     "url": "https://www.gnu.org/software/octave/support.html"
    },
    {
     "text": "Octave Kernel",
     "url": "https://github.com/Calysto/octave_kernel"
    },
    {
     "text": "MetaKernel Magics",
     "url": "https://metakernel.readthedocs.io/en/latest/source/README.html"
    }
   ],
   "mimetype": "text/x-octave",
   "name": "octave",
   "version": "4.4.1"
  }
 },
 "nbformat": 4,
 "nbformat_minor": 4
}
