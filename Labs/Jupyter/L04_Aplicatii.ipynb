{
 "cells": [
  {
   "cell_type": "markdown",
   "metadata": {},
   "source": [
    "# PSS Lab 04: Aplicații\n",
    "\n",
    "## Utilizare\n",
    "\n",
    "Acest fișier se poate rule *live* in browser. Acest fișier este de tip Jupyter Notebook și utilizează un kernel Octave.\n",
    "\n",
    "Utilizare:\n",
    "  - `Shift+Enter` într-o celulă = Execută și avansează la celula următoare\n",
    "  - `Ctrl+Enter` într-o celulă = Execută și rămâi la celula curentă"
   ]
  },
  {
   "cell_type": "markdown",
   "metadata": {},
   "source": [
    "Rulați celula următoare pentru a preveni expirarea paginii online pe Binder:"
   ]
  },
  {
   "cell_type": "code",
   "execution_count": null,
   "metadata": {},
   "outputs": [],
   "source": [
    "%run -i -l python keepalive.py"
   ]
  },
  {
   "cell_type": "code",
   "execution_count": null,
   "metadata": {
    "collapsed": false,
    "jupyter": {
     "outputs_hidden": false
    }
   },
   "outputs": [],
   "source": [
    "pkg load signal  % Pentru Octave, trebuie rulată o data această linie la începutul programului, pentru a încărca unele funcții necesare\n",
    "graphics_toolkit (\"gnuplot\");\n",
    "disp(\"Initialized\")"
   ]
  },
  {
   "cell_type": "markdown",
   "metadata": {},
   "source": [
    "## Aplicații ale metodelor din familia Pade / Prony / Shanks \n",
    "\n",
    "Contextul tuturor acestor metode este următorul:\n",
    "\n",
    "Avem un sistem cu răspuns la impuls cunoscut $h[n]$, posibil foarte lung (IIR-like). Ne interesează să cunoaștem parametrii $a_k$ și $b_k$ ai sistemului care l-a generat, care sunt în număr mult mai mic.\n",
    "\n",
    "Posibile scopuri:\n",
    "- Implementare eficientă: mult mai puține calcule\n",
    "- Clasificarea semnalului: număr mic și fix de parametri, care caracterizează întreg semnalul\n",
    "- Egalizare de canal: anularea efectului nedorit cauzat de $h[n]$"
   ]
  },
  {
   "cell_type": "markdown",
   "metadata": {},
   "source": [
    "### Funcțiile folosite\n",
    "\n",
    "1. Metoda Pade implementată la laborator\n",
    "2. Metoda Prony implementată la laborator\n",
    "3. Metoda Shanks, implementată in Matlab cu numele `prony()`  (nu e disponibilă în varianta *live*, care folosește Octave)\n",
    "\n",
    "Rulați celulele de mai jos pentru a defini funcțiile."
   ]
  },
  {
   "cell_type": "code",
   "execution_count": null,
   "metadata": {},
   "outputs": [],
   "source": [
    "function [b,a] = metodapade(ordin, hd)\n",
    "\n",
    "    B = hd(1 : 2*ordin+1)';\n",
    "\n",
    "    Adreapta = [ eye(ordin+1) ; zeros(ordin,ordin+1) ];\n",
    "\n",
    "    for i=1:ordin\n",
    "        % coloana numarul i\n",
    "        A(:,i) = [ zeros(i,1) ; -hd(1 : 2*ordin+1 - i)'];\n",
    "    end    \n",
    "    A = [A Adreapta];\n",
    "\n",
    "    X = linsolve(A,B);\n",
    "    a = X(1:ordin);\n",
    "    b = X(ordin+1 : 2*ordin+1);\n",
    "\n",
    "end  # end function"
   ]
  },
  {
   "cell_type": "code",
   "execution_count": null,
   "metadata": {},
   "outputs": [],
   "source": [
    "function r = xcorr_prony(x, k, l, M)\n",
    "    % Computes restricted autocorrelation for the Prony method\n",
    "    % Inputs:\n",
    "    %  x = the input vector\n",
    "    %  k,l = the element to compute\n",
    "    %  M = the degree of the numerator polynomial B(z)\n",
    "    % Returns:\n",
    "    %  r = rxx[k,l] = rxx[k-l]\n",
    "\n",
    "    x(1 : M+1-max(k,l)) = 0; % Setăm primele valori la 0\n",
    "    rxx = xcorr(x);          % Calculeaza autocorelatia partiala\n",
    "\n",
    "    % Returneaza doar o singura valoare, rxx[k-l]\n",
    "    L = length(x);\n",
    "    r = rxx(L + k-l);\n",
    "end\n",
    "\n",
    "function [b,a] = metodaprony(ordin, hd)\n",
    "    % Nicolae Cleju\n",
    "\n",
    "    % Se creeaza A\n",
    "    for i=1:ordin\n",
    "        for j=1:ordin\n",
    "            A(i,j) = xcorr_prony(hd, i, j, ordin);\n",
    "        end\n",
    "    end\n",
    "    % Se creeaza B\n",
    "    for i=1:ordin\n",
    "        B(i,1) = -xcorr_prony(hd, i, 0, ordin);\n",
    "    end\n",
    "    % Se rezolva sistemul AX=B\n",
    "    a = linsolve(A,B);\n",
    "\n",
    "    % Calculeaza b\n",
    "    for n=0:ordin\n",
    "        % Primele ecuatii de la metode Pade\n",
    "        b(1+n) = hd(n+1) + sum(a(1:n)' .* hd(n:-1:1));\n",
    "    end\n",
    "end"
   ]
  },
  {
   "cell_type": "markdown",
   "metadata": {},
   "source": [
    "## Egalizare de canal\n",
    "\n",
    "Se transmite un semnal $x[n]$ pe un canal care alterează semnalul prin funcția de transfer $H(z)$.\n",
    "\n",
    "Nu cunoaștem $H(z)$, dar putem măsura răspunsul la impuls: trimitem un impuls $\\delta[n]$, măsurăm ieșirea $h[n]$.\n",
    "\n",
    "Vrem să anulăm efectul lui $H(z)$ astfel:\n",
    "- estimăm $H(z)$ prin metodele cunoscute\n",
    "- aplicăm asupra oricărei ieșitri **filtrul invers** $\\frac{1}{H(z)}$\n",
    "\n",
    "### Aplicație\n",
    "\n",
    "Avem un canal care introduce distorsiuni, prin următoarele funcții (diferite variante):\n"
   ]
  },
  {
   "cell_type": "code",
   "execution_count": null,
   "metadata": {},
   "outputs": [],
   "source": [
    "function y = distort(x)\n",
    "    % Distort a signal x\n",
    "    b = [0.6, 0.5, 0.2, 0.1, 0.2, 0.2, 0.2, 0.2, 0.2, 0.2, 0.1];\n",
    "    a = [1,-0.5];\n",
    "    y = filter(b, a, x);\n",
    "end\n",
    "\n",
    "function y = distortN(x)\n",
    "    % Distort a signal x, add noise\n",
    "    y = distort(x);\n",
    "    noise = randn(size(y));\n",
    "    y = y + noise * norm(y) / norm(noise) / 60;\n",
    "end\n",
    "\n",
    "function y = distort2(x)\n",
    "    % Distort a signal x\n",
    "    b = [0.2, 0.5, 0.2, 0.6, 0.2, 0.2, 0.2, 0.2, 0.2, 0.2, 0.1];\n",
    "    a = [1,-0.5];\n",
    "    y = filter(b, a, x);\n",
    "end\n",
    "\n",
    "function y = distort2N(x)\n",
    "    % Distort a signal x, add noise\n",
    "    y = distort2(x);\n",
    "    noise = randn(size(y));\n",
    "    y = y + noise * norm(y) / norm(noise) / 60;\n",
    "end"
   ]
  },
  {
   "cell_type": "markdown",
   "metadata": {},
   "source": [
    "De exemplu, pentru semnalul `x` de mai jos, ieșirea distorsionată cu `disrort()` este următoarea:"
   ]
  },
  {
   "cell_type": "code",
   "execution_count": null,
   "metadata": {},
   "outputs": [],
   "source": [
    "x = [zeros(1, 10) 2*ones(1,20) zeros(1,10) linspace(1, 2.5, 40) 2.5*ones(1,10) zeros(1, 15)];\n",
    "plot(x)"
   ]
  },
  {
   "cell_type": "code",
   "execution_count": null,
   "metadata": {},
   "outputs": [],
   "source": [
    "y = distort(x);\n",
    "plot(y)"
   ]
  },
  {
   "cell_type": "markdown",
   "metadata": {},
   "source": [
    "Calcluați și afișați semnalul distorsionat cu celelalte funcții. Care e diferența?"
   ]
  },
  {
   "cell_type": "code",
   "execution_count": null,
   "metadata": {},
   "outputs": [],
   "source": [
    "% TODO: write here"
   ]
  },
  {
   "cell_type": "markdown",
   "metadata": {},
   "source": [
    "#### Cerințe\n",
    "\n",
    "Estimați **filtrul invers** al distorsiunilor pentru a anula efectele acestuia, pe cât posibil.\n",
    "\n",
    "Pași:\n",
    "1. Calculați răspunsul la impuls $h_{canal}[n]$ al distorsiunii\n",
    "2. Estimați parametrii sistemului $H(z)$ cu funcțiile Pade/Prony/etc\n",
    "   - calculați răspunsul la impuls $h[n]$ cu `impz()`\n",
    "   - afișați pe aceeasi figură $h_{canal}[n]$ și $h[n$\n",
    "   <!-- - calculați eroarea $E = \\sum_n (h_{canal}[n] - h[n])^2$ -->\n",
    "   - comparați coeficienții $b$ și $a$ obținuți cu cei din funcțiile `distort()`\n",
    "3. Afișați polii și zerourile filtrului estimat, folosind funcția `zplane()`\n",
    "3. Aplicați semnalului `y` filtrul invers $\\frac{1}{H(z)}$, folosind funcția `filter()`\n",
    "4. Comparați semnalul obținut `xrec` cu originalul `x`\n",
    "   - afișați-le pe aceeasi figură\n",
    "   <!-- - calculați eroarea dintre ele -->\n"
   ]
  },
  {
   "cell_type": "code",
   "execution_count": null,
   "metadata": {},
   "outputs": [],
   "source": [
    "% Compute impulse response\n",
    "hcanal = distort( ... );\n",
    "\n",
    "% Estimate the parameters b_k and a_k\n",
    "[b,a] = ...\n",
    "\n",
    "% Add a_0 in front (a_0 = 1)\n",
    "a = [1; a];\n",
    "\n",
    "% Show pole-zero plot\n",
    "..."
   ]
  },
  {
   "cell_type": "code",
   "execution_count": null,
   "metadata": {},
   "outputs": [],
   "source": [
    "% Compute impulse response of the filter we obtained\n",
    "hest = ...\n",
    "\n",
    "% Plot hcanal and hest on the same figure\n",
    "plot( ... )\n"
   ]
  },
  {
   "cell_type": "code",
   "execution_count": null,
   "metadata": {},
   "outputs": [],
   "source": [
    "% Apply inverse filter to the distorted signal y\n",
    "xrec = ...\n",
    "\n",
    "% Plot original signal x and the recovered xrec\n",
    "plot([x', xrec'])"
   ]
  },
  {
   "cell_type": "markdown",
   "metadata": {},
   "source": [
    "## Filtrul FIR invers\n",
    "\n",
    "Filtrul invers $\\frac{1}{H(z)}$ este **instabil** dacă $H(z)$ are zerouri în afara cercului unitate.\n",
    "\n",
    "Una din soluțiie este de a găsi un filtru FIR care aproximează filtrul invers, care fiind FIR este întotdeauna stabil.\n",
    "\n",
    "### Proiectarea filtrului FIR invers prin metoda celor mai mici pătrate\n",
    "\n",
    "Dat fiind un filtru $H(z)$ cu răspunsul la impuls $h[n]$, \n",
    "**filtrul FIR invers** $H_I(z) = b_0 + ... + b_Nz^{N}$ se obține rezolvând sistemul următor (similar cu cel de la metoda Prony):\n",
    "\n",
    "$$\n",
    "\\begin{bmatrix} \n",
    "h[0] \\\\ \n",
    "0 \\\\ \n",
    "\\vdots \\\\ \n",
    "0 \\\\ \n",
    "\\end{bmatrix}\n",
    "=\n",
    "\\begin{bmatrix}\n",
    "r_{hh}[0] & r_{hh}[-1] & \\dots & r_{hh}[-(N-1)] \\\\\n",
    "r_{hh}[1] & r_{hh}[0] & \\dots & r_{hh}[-(N-2)] \\\\\n",
    "\\vdots & \\dots & \\dots & \\vdots \\\\ \n",
    "r_{hh}[N-1] & r_{hh}[N-2] & \\dots & r_{hh}[0] \\\\\n",
    "\\end{bmatrix}\n",
    "\\begin{bmatrix} \n",
    "b_1 \\\\ \n",
    "b_2 \\\\ \n",
    "\\vdots \\\\ \n",
    "b_N \\\\ \n",
    "\\end{bmatrix}\n",
    "$$\n",
    "\n",
    "### Implementare\n",
    "\n",
    "Scrieți o funcție care obține filtrul FIR invers:"
   ]
  },
  {
   "cell_type": "code",
   "execution_count": null,
   "metadata": {},
   "outputs": [],
   "source": [
    "function [b] = FIRinvers(ord, h)\n",
    "\n",
    "    % TODO: write code here\n",
    "\n",
    "end"
   ]
  },
  {
   "cell_type": "markdown",
   "metadata": {},
   "source": [
    "### Aplicație\n",
    "\n",
    "Aplicăm această metodă distorsiunilor de tip `distort2()` care nu pot fi anulate cu metodele precedente.\n",
    "\n",
    "Calculăm filtrul invers și îl aplicăm semnalului distorsionat."
   ]
  },
  {
   "cell_type": "code",
   "execution_count": null,
   "metadata": {},
   "outputs": [],
   "source": [
    "h = distort2([1 zeros(1,30)]);\n",
    "\n",
    "b = FIRinvers( ... );\n",
    "\n",
    "xrec = filter( ... );\n",
    "\n",
    "plot([x', xrec'])\n"
   ]
  },
  {
   "cell_type": "markdown",
   "metadata": {},
   "source": [
    "## Implementare eficientă / identificare de sistem\n",
    "\n",
    "Descărcați și dezarhivați ecourile (reverb-urile) disponibile pe pagina [https://www.voxengo.com/impulses/](https://www.voxengo.com/impulses/)\n",
    "\n",
    "Încărcați unul dintre cele mai scurte (de ex. `Direct Cabinet N2.wav`) și aplicați-l asupra unei melodii."
   ]
  },
  {
   "cell_type": "code",
   "execution_count": null,
   "metadata": {},
   "outputs": [],
   "source": [
    "% Load impulse response, keep a single column, plot it\n",
    "[h, Fs2] = ...\n",
    "h = h(:, 1);\n",
    "plot(h)\n",
    "\n",
    "% Load signal, keep a single column\n",
    "...\n",
    "\n",
    "% Apply reverb = convolution between `x` and `h`\n",
    "y = ..."
   ]
  },
  {
   "cell_type": "markdown",
   "metadata": {},
   "source": [
    "Să afișăm primele 200 eșantioane din `h`:"
   ]
  },
  {
   "cell_type": "code",
   "execution_count": null,
   "metadata": {},
   "outputs": [],
   "source": [
    "plot(h(1:200))"
   ]
  },
  {
   "cell_type": "markdown",
   "metadata": {},
   "source": [
    "### Problema\n",
    "\n",
    "Dacă lungimea lui $h$ este L, câte calcule se fac la aplicarea convoluției?\n",
    "\n",
    "- L înmulțiri pentru fiecare eșantion al iesirii $y$\n",
    "- sunt $F_s$ eșantioane pe secundă în $y$\n",
    "- total = \n",
    "\n",
    "Dacă am reuși să exprimăm $h$ ca un răspuns la impuls al unui sistem IIR de gradul `ord`, \n",
    "am putea implementa sistemul cu ecuația sistemului, care utilizează doar `2*ord +1` multiplicări."
   ]
  },
  {
   "cell_type": "markdown",
   "metadata": {},
   "source": [
    "### Soluție\n",
    "\n",
    "Utilizăm metodele tip Prony pentru a găsi un sistem al cărui $h[n]$ aproximează $h_d$-ul dorit.\n",
    "\n",
    "Aproximați semnalul $h$ prin metoda Pade / Prony, încercând diverse valori ale lui `ord`.\n",
    "\n",
    "- rulați funcția și obțineți coeficienții `b` și `a`\n",
    "- având $b_k$ și $a_k$, calculați răspunsul la impuls obținut $h[n]$ pentru primele 44100 eșantioane cu `impz()`\n",
    "- afișați semnalele $h[n]$ (cel proiectat) și $h_d[n]$ (cel țintă) pe aceeași figură, pentru comparație\n",
    "- calculați eroarea dintre cele două semnale cu formula:\n",
    "  $$E = \\sum_n (h[n] - h_d[n])^2$$"
   ]
  },
  {
   "cell_type": "code",
   "execution_count": null,
   "metadata": {},
   "outputs": [],
   "source": [
    "% TODO: write here"
   ]
  },
  {
   "cell_type": "markdown",
   "metadata": {},
   "source": [
    "O problemă importantă este că primele eșantioanele ale lui $h$ sunt foarte mici și irelevante, iar metodele Pade & Prony \n",
    "aleg o parte din coeficienți pe baza acestora. \n",
    "\n",
    "Se poate încerca eliminarea primelor eșantioane din semnalul $h$.\n",
    "\n"
   ]
  },
  {
   "cell_type": "markdown",
   "metadata": {},
   "source": [
    "## Exercițiu / Exemplu la tablă\n",
    "\n",
    "1. Folosiți metoda celor mai mici pătrate pentru a găsi filtrul FIR invers de ordinul 2 al filtrului:\n",
    "   $$H(z) = 0.2 + 0.8 z^{-1} + 0.2 z^{-2}$$"
   ]
  }
 ],
 "metadata": {
  "anaconda-cloud": {},
  "kernelspec": {
   "display_name": "Octave",
   "language": "octave",
   "name": "octave"
  },
  "language_info": {
   "file_extension": ".m",
   "help_links": [
    {
     "text": "GNU Octave",
     "url": "https://www.gnu.org/software/octave/support.html"
    },
    {
     "text": "Octave Kernel",
     "url": "https://github.com/Calysto/octave_kernel"
    },
    {
     "text": "MetaKernel Magics",
     "url": "https://metakernel.readthedocs.io/en/latest/source/README.html"
    }
   ],
   "mimetype": "text/x-octave",
   "name": "octave",
   "version": "6.2.0"
  }
 },
 "nbformat": 4,
 "nbformat_minor": 4
}
