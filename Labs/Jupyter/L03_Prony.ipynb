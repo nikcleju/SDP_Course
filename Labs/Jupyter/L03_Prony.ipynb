{
 "cells": [
  {
   "cell_type": "markdown",
   "metadata": {},
   "source": [
    "# SDP Lab 03: IIR Filter Design with Prony method\n",
    "\n",
    "## Usage\n",
    "\n",
    "This file is is designed to be run live in a browser. This file is a Jupyter Notebook using the Octave kernel.\n",
    "\n",
    "Usage:\n",
    "  - `Shift+Enter` on a code cell = Execute and go to next cell\n",
    "  - `Ctrl+Enter` on a code cell = Execute and stay at this cell\n",
    "\n",
    "Run the next line to keep alive this page and prevent expiration:"
    ]
  },
  {
   "cell_type": "code",
   "execution_count": null,
   "metadata": {
    "language": "octave"
   },
   "outputs": [],
   "source": [
    "%run -l python keepalive.py"
   ]
  },
  {
   "cell_type": "markdown",
   "metadata": {},
   "source": [
    "## Practical considerations\n",
    "\n",
    "### The autocorrelation function\n",
    "\n",
    "For a general signal $x[n]$, the autocorrelation function is defined as:\n",
    "$$r_{xx}[k] = \\sum_{n=-\\infty}^{\\infty} x[n] x[n-k]$$\n",
    "\n",
    "In Matlab, for a vector `x` of length `L` (values go from `x[1]` to `x[L]`), the autocorrelation is computed with the function `xcorr()`. The following example computes the autocorrelation values:\n"
   ]
  },
  {
   "cell_type": "code",
   "execution_count": null,
   "metadata": {
    "language": "octave",
    "lines_to_next_cell": 2
   },
   "outputs": [],
   "source": [
    "pkg load signal  % Run this once only, only for Octave, to load required functions"
   ]
  },
  {
   "cell_type": "code",
   "execution_count": null,
   "metadata": {
    "language": "octave"
   },
   "outputs": [],
   "source": [
    "x = [1,2,3,4];\n",
    "rxx = xcorr(x)   % Compute the autocorrelation of x"
   ]
  },
  {
   "cell_type": "markdown",
   "metadata": {},
   "source": [
    "There are 2*L-1 values in total (L is the length of `x`), starting from $r_{xx}[-(L-1)]$ up to $r_{xx}[L-1]$. So, the value $r_{xx}[0]$ is actually in the middle of the result vector, `rxx(L)`:\n"
   ]
  },
  {
   "cell_type": "code",
   "execution_count": null,
   "metadata": {
    "language": "octave"
   },
   "outputs": [],
   "source": [
    "L = length(x);\n",
    "rxx(L)     % This is r_xx[0] \n",
    "rxx(L+1)   % This is r_xx[1] \n",
    "rxx(L-3)   % This is r_xx[-3] "
   ]
  },
  {
   "cell_type": "markdown",
   "metadata": {},
   "source": [
    "### **Exercise**: plot autocorrelation\n",
    "\n",
    "**Exercise**: Compute and plot the autocorrelation function for the constant vector $\\{3, 3, 3, 3, 3, 3, 3\\}$ (use `xcorr()` and `stem()` functions).\n",
    "The indicate what is the value of $r_{xx}[0]$ and $r_{xx}[2]$\n"
   ]
  },
  {
   "cell_type": "code",
   "execution_count": null,
   "metadata": {
    "language": "octave"
   },
   "outputs": [],
   "source": [
    "% TODO: write code here\n"
   ]
  },
  {
   "cell_type": "markdown",
   "metadata": {},
   "source": [
    "The plot should look like a triangle.\n",
    "\n",
    "## Restricted autocorrelation for Prony method\n",
    "\n",
    "For the Prony method we need the values of a **restricted autocorrelation**, defined as:\n",
    "$$r_{xx}[k,l] = r_{xx}[k-l] = \\sum_{n=M+1}^\\infty h[n-k] h[n-l] = \\sum_{n=M+1-k}^\\infty h[n] h[n+(k-l)]$$\n",
    "\n",
    "The difference is that the **sum doesn't start from $n=0$**, but from a higher value, so the first elements in the sum are skipped.\n",
    "\n",
    "The restricted autocorrelation can be computed just like the normal autocorrelation, but with the first $M + 1 - max(k,l)$ elements of the vector set to 0.\n",
    "\n",
    "Consider the example below to compute $r_{xx}[k=1, l=2]$, for $M=2$:\n"
   ]
  },
  {
   "cell_type": "code",
   "execution_count": null,
   "metadata": {
    "language": "octave"
   },
   "outputs": [],
   "source": [
    "M = 2;\n",
    "x = [1,2,3,4];\n",
    "k=1;\n",
    "l=2;\n",
    "\n",
    "x(1 : M+1-max(k,l)) = 0; % Set first elements to 0\n",
    "x                        % Display the restricted x\n",
    "rxx = xcorr(x)           % Compute the restricted autocorrelation vector"
   ]
  },
  {
   "cell_type": "markdown",
   "metadata": {},
   "source": [
    "### **Exercise**: make a function for restricted autocorrelation\n",
    "\n",
    "Create a function `r = xcorr_prony(x, k, l, M)` to compute one value the restricted autocorrelation required for the Prony method.\n",
    "Make sure to return a single value, $r_{xx}[k-l]$ (remember $r_{xx}[0] = $ `rxx(L)` in Matlab).\n",
    "\n",
    "Test your function with the following values, for `x = [1,2,3,2,1,2,3]` and `M=2`:\n",
    "$$\\begin{align}\n",
    "r_{xx}[1,1] &= 27\\\\\n",
    "r_{xx}[1,2] &= 22\\\\\n",
    "r_{xx}[2,1] &= 22\\\\\n",
    "r_{xx}[2,2] &= 31\\\\\n",
    "r_{xx}[1] = r_{xx}[1,0] &= 16\\\\\n",
    "r_{xx}[2] = r_{xx}[2,0] &= 14\\\\\n",
    "\\end{align}$$"
   ]
  },
  {
   "cell_type": "markdown",
   "metadata": {},
   "source": [
    "For this file, you can define it below and run the cell. For running offline in Matlab/Octave, save it as a file `xcorr_prony.m`\n"
   ]
  },
  {
   "cell_type": "code",
   "execution_count": null,
   "metadata": {
    "language": "octave"
   },
   "outputs": [],
   "source": [
    "function r = xcorr_prony(x, k, l, M)\n",
    "% Computes restricted autocorrelation for the Prony method\n",
    "% Inputs:\n",
    "%  x = the input vector\n",
    "%  k,l = the element to compute\n",
    "%  M = the degree of the numerator polynomial B(z)\n",
    "% Returns:\n",
    "%  r = rxx[k,l] = rxx[k-l]\n",
    "\n",
    "\n",
    "end\n",
    "\n",
    "% Call it here to find the values, like this:\n",
    "% xcorr_prony( ... , ... , ... , ...)"
   ]
  },
  {
   "cell_type": "markdown",
   "metadata": {},
   "source": [
    "## Equation systems for the Prony method\n",
    "\n",
    "The Prony method find first the coefficients $\\{a_k\\}$ based on a system using the restricted autocorrelation values:\n",
    "\n",
    "$$\n",
    "\\begin{bmatrix}\n",
    "r_{dd}[1,1] & r_{dd}[1,2] & \\dots & r_{dd}[1,N] \\\\\n",
    "r_{dd}[2,1] & r_{dd}[2,2] & \\dots & r_{dd}[2,N] \\\\\n",
    "\\vdots & \\dots & \\dots & \\vdots \\\\ \n",
    "r_{dd}[N,1] & r_{dd}[N,2] & \\dots & r_{dd}[N,N] \\\\\n",
    "\\end{bmatrix}\n",
    "\\begin{bmatrix} \n",
    "a_1 \\\\ \n",
    "a_2 \\\\ \n",
    "\\vdots \\\\ \n",
    "a_N \\\\ \n",
    "\\end{bmatrix}\n",
    "= \n",
    "\\begin{bmatrix} \n",
    "- r_{dd}[1,0] \\\\ \n",
    "- r_{dd}[2,0] \\\\ \n",
    "\\vdots \\\\ \n",
    "- r_{dd}[N,0] \\\\ \n",
    "\\end{bmatrix}$$"
   ]
  },
  {
   "cell_type": "markdown",
   "metadata": {},
   "source": [
    "### **Exercise**: solve the $\\{a_k\\}$ system for $M=2$\n",
    "\n",
    "Solve the system for $h_d[n] = \\{1,2,3,2,1,2,3\\}$, with $M=2$ and $N=2$. Use `linsolve()`.\n"
   ]
  },
  {
   "cell_type": "code",
   "execution_count": null,
   "metadata": {
    "language": "octave"
   },
   "outputs": [],
   "source": [
    "A = ...   % 2x2 matrix\n",
    "B = ...   % 2x1 column vector\n",
    "\n",
    "a = linsolve(A,B)   % solve"
   ]
  },
  {
   "cell_type": "markdown",
   "metadata": {},
   "source": [
    "The numerator coefficients are found by the same equations as in the Pade method, using the values $\\{a_k\\}$ found above.\n",
    "The equations can be written as:\n",
    "$$b_n = h_d[n] + \\sum_{k=1}^N a_k h_d[n-k]$$\n",
    "\n",
    "A quick way to implement this in Matlab is:\n"
   ]
  },
  {
   "cell_type": "code",
   "execution_count": null,
   "metadata": {
    "language": "octave"
   },
   "outputs": [],
   "source": [
    "% Sample input data\n",
    "hd = [1,2,3,2,1,2,3];\n",
    "a  = [0.4, 0.5];   % from a_1 onwards\n",
    "M = 2;             % degree of numerator\n",
    "N = 2;             % degree of denominator\n",
    "\n",
    "% Compute bn\n",
    "n = 1;  % specify which element to compute\n",
    "bn = hd(n+1) + sum(a(1:n) .* hd(n:-1:1))"
   ]
  },
  {
   "cell_type": "markdown",
   "metadata": {},
   "source": [
    "### **Exercise**: Compute all $b_n$\n",
    "\n",
    "Copy the exercise above and extend it, in order to find all coefficients $b_n$ and place them in a vector `b`. Use a `for` loop to compute the coefficients.\n"
   ]
  },
  {
   "cell_type": "code",
   "execution_count": null,
   "metadata": {
    "language": "octave"
   },
   "outputs": [],
   "source": [
    "% Sample input data\n",
    "hd = [1,2,3,2,1,2,3];\n",
    "a  = [0.4, 0.5];   % from a_1 onwards\n",
    "M = 2;             % degree of numerator\n",
    "N = 2;             % degree od denominator\n",
    "\n",
    "% TODO: write here\n"
   ]
  },
  {
   "cell_type": "markdown",
   "metadata": {},
   "source": [
    "### Exercise / Example at blackboard\n",
    "\n",
    "1. Use the Prony method to find out the parameters of the system with the following system function of order 2:\n",
    "   $$H(z) = \\frac{b_0 + b_1 z^{-1} + b_2 z^{-2}}{1 + a_1 z^{-1} + a_2 z^{-2}}$$\n",
    "   considering the desired impulse response: \n",
    "   $$h_d[n] = \\left(\\frac{1}{3}\\right)^n \\cos\\left(n \\pi\\right) u[n] + u[n-3]$$"
   ]
  },
  {
   "cell_type": "markdown",
   "metadata": {},
   "source": [
    "## Final Exercises"
   ]
  },
  {
   "cell_type": "markdown",
   "metadata": {},
   "source": [
    "1. Implement in Matlab a function for creating and then solving the equation system\n",
    "resulting from the **Prony method**:\n",
    "\n",
    "    ```[b,a] = pronymet(order, hd)```\n",
    "\n",
    "   The function shall have the following arguments:\n",
    "      - `order`: the order of the designed filter\n",
    "      \n",
    "      - `hd`: a vector holding the first samples of the desired impulse response\n",
    "\n",
    "   The function shall return the coefficients of the system function for the resulting filter:\n",
    "      - `b`: the numerator coefficients\n",
    "      \n",
    "      - `a`: the denominator coefficients\n",
    "\n",
    "2. Use the function above to design a second order filter with the Prony method, for\n",
    "approximating the desired impulse response given below:\n",
    "$$h_d[n] = \\left(\\frac{1}{3}\\right)^n \\cdot \\cos(\\frac{\\pi}{4}n)\\cdot u[n]$$\n",
    "\n",
    "    You can reuse the code from the last laboratory to generate the signal $h_d$.\n",
    "\n",
    "2. Use the function above to design with the Prony method a filter of order 2\n",
    "which approximates the following higher-order filter (3):\n",
    "$$H(z) = \\frac{0.0736 + 0.0762 z^{-1} + 0.0762 z^{-1} + 0.0736 z^{-3}}\n",
    "{1 - 1.3969 z^{-1} + 0.8778 z^{-1} - 0.1812 z^{-3}}$$\n",
    "\n",
    "    - a. Use the function `impz()` to generate the impulse response\n",
    "      of the given filter, for at least 100 time moments;\n",
    "      \n",
    "      **Note**: `impz()` is used to generate the impulse response of a system, as follows:\n",
    "      ```h = impz(b,a,N); ```\n",
    "      where `b` and `a` are the coefficients of the system, and `N` is the desired length\n",
    "    \n",
    "    - b. Use your function `pronymet()` to actually design the filter;\n",
    "    \n",
    "    - c. Plot the impulse response of the given filter, and the impulse response of the designed filter, for the first 50 samples.\n",
    "    Are any samples identical?\n",
    "\n",
    "3. Load a sample audio file in Matlab and filter it with the filter found above, just like we did in Lab 01.\n",
    "Play the filtered signal. How does it sound like? Compare it with the original signal.\n"
   ]
  }
 ],
 "metadata": {
  "jupytext": {
   "cell_metadata_filter": "language,-all",
   "formats": "ipynb,md",
   "main_language": "matlab"
  },
  "language_info": {
   "name": "python"
  }
 },
 "nbformat": 4,
 "nbformat_minor": 2
}
