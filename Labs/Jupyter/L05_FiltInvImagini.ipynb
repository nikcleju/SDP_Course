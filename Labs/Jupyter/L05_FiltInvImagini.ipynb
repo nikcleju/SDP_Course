{
 "cells": [
  {
   "cell_type": "markdown",
   "metadata": {},
   "source": [
    "# Filtrare inversă pe liniile unei imagini\n",
    "\n",
    "Să prespunem că fiecare linie a unei imagini este distorsionată, doar de-a lungul liniilor, nu si de-a lungul coloanelor.\n",
    "\n",
    "Avem o problemă de filtare inversă 1-D pe fiecare linie a imaginii.\n",
    "\n",
    "## Filtrul FIR invers\n",
    "\n",
    "### Proiectarea filtrului FIR invers, cauzal, prin metoda celor mai mici pătrate\n",
    "\n",
    "Dat fiind un filtru $H(z)$ cauzal cu răspunsul la impuls $h[n]$, \n",
    "**filtrul FIR invers** cauzal $H_I(z) = b_0 + ... + b_Nz^{N}$ se obține rezolvând sistemul următor (similar cu cel de la metoda Prony):\n",
    "\n",
    "$$\n",
    "\\begin{bmatrix*}\n",
    "h[0] \\\\ \n",
    "0 \\\\ \n",
    "\\vdots \\\\ \n",
    "0 \\\\ \n",
    "\\end{bmatrix*}\n",
    "=\n",
    "\\begin{bmatrix*}[l]\n",
    "r_{hh}[0] & r_{hh}[-1] & \\dots & r_{hh}[-N)] \\\\\n",
    "r_{hh}[1] & r_{hh}[0] & \\dots & r_{hh}[-N+1)] \\\\\n",
    "\\vdots & \\dots & \\dots & \\vdots \\\\ \n",
    "r_{hh}[N] & r_{hh}[N-1] & \\dots & r_{hh}[0] \\\\\n",
    "\\end{bmatrix*}\n",
    "\\begin{bmatrix} \n",
    "b_0 \\\\ \n",
    "b_1 \\\\ \n",
    "\\vdots \\\\ \n",
    "b_N \\\\ \n",
    "\\end{bmatrix}\n",
    "$$\n",
    "\n",
    "### 1. Calculare filtru FIR invers\n",
    "\n",
    "**CERINȚA 1**: Scrieți o funcție care calculează filtrul FIR invers.\n",
    "\n",
    "Funcții Matlab:\n",
    "- `length()`\n",
    "- `xcorr()`"
   ]
  },
  {
   "cell_type": "code",
   "execution_count": null,
   "metadata": {},
   "outputs": [],
   "source": [
    "%%file FIRinvers.m\n",
    "\n",
    "function b = FIRinvers(ord, h)\n",
    "\n",
    "     % TODO: write code here\n",
    "     \n",
    "end"
   ]
  },
  {
   "cell_type": "markdown",
   "metadata": {},
   "source": [
    "Rulați linia de mai jos pentru a testa, cu niște valori oarecare, dacă funcția este implementată corect."
   ]
  },
  {
   "cell_type": "code",
   "execution_count": null,
   "metadata": {},
   "outputs": [],
   "source": [
    "% TESTARE\n",
    "\n",
    "% b = FIRinvers(3, [1,2,3,4,5,6]);\n",
    "assert( all(abs(   FIRinvers(3, [1,2,3,4,5,6]) - [ 0.0274; -0.0230; 0.0008; 0.0024]  )))"
   ]
  },
  {
   "cell_type": "markdown",
   "metadata": {},
   "source": [
    "### 2. Definirea distorsiunilor\n",
    "\n",
    "Rulați celulele următoare pentru a defini distorsiunile `distort()`, `distort_more()`, `distort_noisy()`, `distort_delay()`"
   ]
  },
  {
   "cell_type": "code",
   "execution_count": null,
   "metadata": {},
   "outputs": [],
   "source": [
    "%%file distort.m\n",
    "function y = distort(x)\n",
    "    L1 = 5;\n",
    "    coef = [zeros(1,L1) 1.1.^[0:-1:-L1]];\n",
    "    coef = coef / norm(coef,1);\n",
    "    coef  = fliplr(coef);  % filter2 expects kernel, not impulse response, it doesn't flip it\n",
    "    coef;\n",
    "    y = filter2(coef, x, 'same');\n",
    "end"
   ]
  },
  {
   "cell_type": "code",
   "execution_count": null,
   "metadata": {},
   "outputs": [],
   "source": [
    "%%file distort_more.m\n",
    "function y = distort_more(x)\n",
    "    L1 = 10;\n",
    "    coef = [zeros(1,L1) 1.1.^[0:-1:-L1]];\n",
    "    coef = coef / norm(coef,1);\n",
    "    coef  = fliplr(coef);  % filter2 expects kernel, not impulse response, it doesn't flip it\n",
    "    coef;\n",
    "    y = filter2(coef, x, 'same');\n",
    "end"
   ]
  },
  {
   "cell_type": "code",
   "execution_count": null,
   "metadata": {},
   "outputs": [],
   "source": [
    "%%file distort_noisy.m\n",
    "function y = distort_noisy(x)\n",
    "    L1 = 5;\n",
    "    coef = [zeros(1,L1) 1.1.^[0:-1:-L1]];\n",
    "    coef = coef / norm(coef,1);\n",
    "    coef  = fliplr(coef);  % filter2 expects kernel, not impulse response, it doesn't flip it\n",
    "    coef;\n",
    "    y = filter2(coef, x, 'same');\n",
    "    \n",
    "    y = y + 0.05*randn(size(y));\n",
    "end\n"
   ]
  },
  {
   "cell_type": "code",
   "execution_count": null,
   "metadata": {},
   "outputs": [],
   "source": [
    "%%file distort_delay.m\n",
    "function y = distort_delay(x)\n",
    "    Delay = 10;\n",
    "    L1 = 5;\n",
    "    coef = [zeros(1,L1+Delay) 1.1.^[0:-1:-L1]];\n",
    "    coef = coef / norm(coef,1);\n",
    "    coef  = fliplr(coef);  % filter2 expects kernel, not impulse response, it doesn't flip it\n",
    "    coef;\n",
    "    y = filter2(coef, x, 'same');\n",
    "end"
   ]
  },
  {
   "cell_type": "markdown",
   "metadata": {},
   "source": [
    "### 3. Distorsionarea unei imagini\n",
    "\n",
    "**CERINȚA 2**: \n",
    "Incărcați imaginea `'lena512.bmp'`, convertiți-o la tipul `double`, convertiți-o la `grayscale`, și afișați-o.\n",
    "\n",
    "Funcții Matlab:\n",
    "  - `imread()`\n",
    "  - `double()` , împărțire la 255\n",
    "  - `im2gray()`\n",
    "  - `imshow()`"
   ]
  },
  {
   "cell_type": "code",
   "execution_count": null,
   "metadata": {},
   "outputs": [],
   "source": [
    "I = ...\n",
    "I = ...\n",
    "..."
   ]
  },
  {
   "cell_type": "markdown",
   "metadata": {},
   "source": [
    "**CERINȚA 3**: treceți imaginea prin distorsiunea `distort()`, și afișați rezultatul.\n",
    "\n",
    "Cum arată imaginea distorsionată? Ce tip de distorsiune este aceasta?"
   ]
  },
  {
   "cell_type": "code",
   "execution_count": null,
   "metadata": {},
   "outputs": [],
   "source": [
    "I2 = ...\n",
    "imshow(I2)"
   ]
  },
  {
   "cell_type": "markdown",
   "metadata": {},
   "source": [
    "### Refacerea imaginii prin filtrare inversă\n",
    "\n",
    "Etape:\n",
    "- obțineți răspunsul la impuls\n",
    "- calculați filtrul FIR invers\n",
    "- filtrați fiecare linie a imaginii distorsionate cu filtrul invers (filtare 1-D), stocați rezultatele într-o nouă imagine\n",
    "- afișați rezultatul"
   ]
  },
  {
   "cell_type": "markdown",
   "metadata": {},
   "source": [
    "**CERINȚA 4**: Găsiți și afișați răspunsul la impuls al distorsiunii `distort()`"
   ]
  },
  {
   "cell_type": "code",
   "execution_count": null,
   "metadata": {},
   "outputs": [],
   "source": [
    "hdis = ...\n"
   ]
  },
  {
   "cell_type": "markdown",
   "metadata": {},
   "source": [
    "**CERINȚA 5**: Calculați filtrul invers cu funcția `FIRinvers()`, așisați coeficienții și răspunsul la impuls.\n",
    "\n",
    "Cât este $H(z) = $?"
   ]
  },
  {
   "cell_type": "code",
   "execution_count": null,
   "metadata": {},
   "outputs": [],
   "source": [
    "b = \n",
    "\n",
    "% Make b horizontal\n",
    "b = b'\n",
    "\n",
    "stem(b)"
   ]
  },
  {
   "cell_type": "markdown",
   "metadata": {},
   "source": [
    "**CERINȚA 6**: Filtrați fiecare linie a imaginii distorsionate cu filtrul găsit, stocați rezultatele, afișați imaginea finală."
   ]
  },
  {
   "cell_type": "code",
   "execution_count": null,
   "metadata": {},
   "outputs": [],
   "source": [
    "...\n",
    "\n",
    "imshow(Irec)"
   ]
  },
  {
   "cell_type": "markdown",
   "metadata": {},
   "source": [
    "### CERINȚE FINALE\n",
    "\n",
    "1. Repețați cu alte imagini (`bugs.jpg`, `barbara.png`)\n",
    "2. Repetați cu celelalte funcții de distorsiune. Când se înrăutățesc rezultatele?"
   ]
  }
 ],
 "metadata": {
  "kernelspec": {
   "display_name": "Matlab",
   "language": "matlab",
   "name": "matlab"
  },
  "language_info": {
   "codemirror_mode": "octave",
   "file_extension": ".m",
   "help_links": [
    {
     "text": "MetaKernel Magics",
     "url": "https://metakernel.readthedocs.io/en/latest/source/README.html"
    }
   ],
   "mimetype": "text/x-octave",
   "name": "matlab",
   "version": "0.16.9"
  }
 },
 "nbformat": 4,
 "nbformat_minor": 4
}
